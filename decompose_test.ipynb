{
 "cells": [
  {
   "cell_type": "code",
   "execution_count": 1,
   "id": "63807aeb-5c43-4bba-beaf-77d10ac91741",
   "metadata": {},
   "outputs": [
    {
     "data": {
      "text/plain": [
       "[((-1.0, -1.0, 0.0), (1.0, -1.0, 0.0), (1.0, 1.0, 0.0)),\n",
       " ((1.0, -1.0, 0.0), (0.0, 0.0, 2.0), (1.0, 1.0, 0.0)),\n",
       " ((1.0, 1.0, 0.0), (0.0, 0.0, 2.0), (-1.0, 1.0, 0.0)),\n",
       " ((-1.0, -1.0, 0.0), (1.0, 1.0, 0.0), (-1.0, 1.0, 0.0)),\n",
       " ((-1.0, 1.0, 0.0), (0.0, 0.0, 2.0), (-1.0, -1.0, 0.0)),\n",
       " ((-1.0, -1.0, 0.0), (0.0, 0.0, 2.0), (1.0, -1.0, 0.0))]"
      ]
     },
     "execution_count": 1,
     "metadata": {},
     "output_type": "execute_result"
    }
   ],
   "source": [
    "from stl_parser import STLParser\n",
    "from helpers import decompose\n",
    "\n",
    "with open('models/four_sided_pyramid.stl', 'rb') as f:\n",
    "    pyramid = STLParser(f.read())\n",
    "\n",
    "facets = pyramid.get_facets_numpy()\n",
    "decompose(facets)"
   ]
  }
 ],
 "metadata": {
  "kernelspec": {
   "display_name": "Python [conda env:base] *",
   "language": "python",
   "name": "conda-base-py"
  },
  "language_info": {
   "codemirror_mode": {
    "name": "ipython",
    "version": 3
   },
   "file_extension": ".py",
   "mimetype": "text/x-python",
   "name": "python",
   "nbconvert_exporter": "python",
   "pygments_lexer": "ipython3",
   "version": "3.12.7"
  }
 },
 "nbformat": 4,
 "nbformat_minor": 5
}
