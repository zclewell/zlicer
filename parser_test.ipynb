{
 "cells": [
  {
   "cell_type": "code",
   "execution_count": 10,
   "id": "41702dc2-94d8-48ea-bdad-cea3a97c1665",
   "metadata": {},
   "outputs": [
    {
     "data": {
      "text/plain": [
       "array([[[-1., -1.,  0.],\n",
       "        [ 1., -1.,  0.],\n",
       "        [ 1.,  1.,  0.]],\n",
       "\n",
       "       [[-1., -1.,  0.],\n",
       "        [ 1.,  1.,  0.],\n",
       "        [-1.,  1.,  0.]],\n",
       "\n",
       "       [[-1., -1.,  0.],\n",
       "        [ 0.,  0.,  2.],\n",
       "        [ 1., -1.,  0.]],\n",
       "\n",
       "       [[ 1., -1.,  0.],\n",
       "        [ 0.,  0.,  2.],\n",
       "        [ 1.,  1.,  0.]],\n",
       "\n",
       "       [[ 1.,  1.,  0.],\n",
       "        [ 0.,  0.,  2.],\n",
       "        [-1.,  1.,  0.]],\n",
       "\n",
       "       [[-1.,  1.,  0.],\n",
       "        [ 0.,  0.,  2.],\n",
       "        [-1., -1.,  0.]]], dtype=float32)"
      ]
     },
     "execution_count": 10,
     "metadata": {},
     "output_type": "execute_result"
    }
   ],
   "source": [
    "from stl_parser import STLParser\n",
    "\n",
    "with open('models/four_sided_pyramid.stl', 'rb') as f:\n",
    "    pyramid = STLParser(f.read())\n",
    "\n",
    "pyramid.get_facets_numpy()"
   ]
  },
  {
   "cell_type": "code",
   "execution_count": null,
   "id": "1b119bcd-1636-4ee5-b01f-30422d55e823",
   "metadata": {},
   "outputs": [],
   "source": []
  }
 ],
 "metadata": {
  "kernelspec": {
   "display_name": "Python [conda env:base] *",
   "language": "python",
   "name": "conda-base-py"
  },
  "language_info": {
   "codemirror_mode": {
    "name": "ipython",
    "version": 3
   },
   "file_extension": ".py",
   "mimetype": "text/x-python",
   "name": "python",
   "nbconvert_exporter": "python",
   "pygments_lexer": "ipython3",
   "version": "3.12.7"
  }
 },
 "nbformat": 4,
 "nbformat_minor": 5
}
